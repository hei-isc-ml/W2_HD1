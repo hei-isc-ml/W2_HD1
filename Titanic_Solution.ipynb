{
 "cells": [
  {
   "cell_type": "markdown",
   "id": "676303fdc1c0a71f",
   "metadata": {
    "collapsed": false
   },
   "source": [
    "# Titanic - Machine Learning from Disaster (Solution)\n",
    "\n",
    "In this laboratory, you will implement a full machine learning pipeline, from preprocessing to model evaluation. \n",
    "The dataset we use is a famous one: [the Titanic dataset](https://www.kaggle.com/competitions/titanic/data) (yes, the big boat that sank...).\n",
    "\n",
    "The idea is simple: use ML to predict which passengers survived the Titanic shipwreck. The dataset is quite simple to understand but presents some real-world challenges (e.g., missing values). The explanation of the dataset is available at the link above.\n",
    "\n",
    "## Goals\n",
    "The goal of this lab is to guide you towards a higher level of autonomy when dealing with ML problems, in particular, classification problems (and in the later part, you will deal with a regression problem). \n",
    "This document provides just the skeleton of your program, reminding you of the main steps to be accomplished.\n",
    "At the end of this lab, you will be able to:\n",
    "- Work on a jupyter notebook for a ML problem.\n",
    "- Develop a full Machine Learning pipeline starting from a skeleton.\n",
    "- Perform data exploration and data preparation\n",
    "- Train, tune and **properly** evaluate different ML models (decision tree, random forest, etc.)"
   ]
  },
  {
   "cell_type": "markdown",
   "id": "2342301b41fc5526",
   "metadata": {
    "collapsed": false
   },
   "source": [
    "## 1 Data exploration "
   ]
  },
  {
   "cell_type": "markdown",
   "id": "641806f0211cf39b",
   "metadata": {
    "collapsed": false
   },
   "source": [
    "### 1.1 Load the data"
   ]
  },
  {
   "cell_type": "code",
   "execution_count": 1,
   "id": "1f96f85d",
   "metadata": {},
   "outputs": [],
   "source": [
    "# The library jupyter_black is used to format the code in the Jupyter Notebook in a format called \"Black\"\n",
    "# By using it, you agree to cede control over minutiae of hand-formatting.\n",
    "# You will save time and mental energy for more important matters.\n",
    "# You can make Jupyter auto-format every cell upon execution simply by adding the following lines at the top of the notebook\n",
    "import jupyter_black\n",
    "\n",
    "jupyter_black.load()"
   ]
  },
  {
   "cell_type": "code",
   "execution_count": 2,
   "id": "ad7be0d2d430b941",
   "metadata": {
    "ExecuteTime": {
     "end_time": "2024-09-04T07:20:10.110331Z",
     "start_time": "2024-09-04T07:20:10.104783Z"
    },
    "collapsed": false
   },
   "outputs": [],
   "source": [
    "# Import libraries\n",
    "import pandas as pd\n",
    "import numpy as np"
   ]
  },
  {
   "cell_type": "code",
   "execution_count": 3,
   "id": "dbed7d45822a6c1",
   "metadata": {
    "ExecuteTime": {
     "end_time": "2024-09-04T07:20:10.544422Z",
     "start_time": "2024-09-04T07:20:10.529579Z"
    },
    "collapsed": false
   },
   "outputs": [],
   "source": [
    "# Load the data (this may change depending on the location of the data: download the data from https://www.kaggle.com/competitions/titanic/data)\n",
    "train_df = pd.read_csv(\"data/train.csv\")\n",
    "test_df = pd.read_csv(\"data/test.csv\")"
   ]
  },
  {
   "cell_type": "markdown",
   "id": "e9f0d61f0634c0c1",
   "metadata": {
    "collapsed": false
   },
   "source": [
    "### 1.2 Explore the data"
   ]
  },
  {
   "cell_type": "markdown",
   "id": "ba780ae6c80c005b",
   "metadata": {},
   "source": [
    "#### 1.2.1 Explore the training set"
   ]
  },
  {
   "cell_type": "code",
   "execution_count": 4,
   "id": "d4e2dcb65a5bcd5",
   "metadata": {
    "ExecuteTime": {
     "end_time": "2024-09-04T07:20:56.085553Z",
     "start_time": "2024-09-04T07:20:56.072368Z"
    },
    "collapsed": false
   },
   "outputs": [
    {
     "data": {
      "text/html": [
       "<div>\n",
       "<style scoped>\n",
       "    .dataframe tbody tr th:only-of-type {\n",
       "        vertical-align: middle;\n",
       "    }\n",
       "\n",
       "    .dataframe tbody tr th {\n",
       "        vertical-align: top;\n",
       "    }\n",
       "\n",
       "    .dataframe thead th {\n",
       "        text-align: right;\n",
       "    }\n",
       "</style>\n",
       "<table border=\"1\" class=\"dataframe\">\n",
       "  <thead>\n",
       "    <tr style=\"text-align: right;\">\n",
       "      <th></th>\n",
       "      <th>PassengerId</th>\n",
       "      <th>Survived</th>\n",
       "      <th>Pclass</th>\n",
       "      <th>Name</th>\n",
       "      <th>Sex</th>\n",
       "      <th>Age</th>\n",
       "      <th>SibSp</th>\n",
       "      <th>Parch</th>\n",
       "      <th>Ticket</th>\n",
       "      <th>Fare</th>\n",
       "      <th>Cabin</th>\n",
       "      <th>Embarked</th>\n",
       "    </tr>\n",
       "  </thead>\n",
       "  <tbody>\n",
       "    <tr>\n",
       "      <th>0</th>\n",
       "      <td>1</td>\n",
       "      <td>0</td>\n",
       "      <td>3</td>\n",
       "      <td>Braund, Mr. Owen Harris</td>\n",
       "      <td>male</td>\n",
       "      <td>22.0</td>\n",
       "      <td>1</td>\n",
       "      <td>0</td>\n",
       "      <td>A/5 21171</td>\n",
       "      <td>7.2500</td>\n",
       "      <td>NaN</td>\n",
       "      <td>S</td>\n",
       "    </tr>\n",
       "    <tr>\n",
       "      <th>1</th>\n",
       "      <td>2</td>\n",
       "      <td>1</td>\n",
       "      <td>1</td>\n",
       "      <td>Cumings, Mrs. John Bradley (Florence Briggs Th...</td>\n",
       "      <td>female</td>\n",
       "      <td>38.0</td>\n",
       "      <td>1</td>\n",
       "      <td>0</td>\n",
       "      <td>PC 17599</td>\n",
       "      <td>71.2833</td>\n",
       "      <td>C85</td>\n",
       "      <td>C</td>\n",
       "    </tr>\n",
       "    <tr>\n",
       "      <th>2</th>\n",
       "      <td>3</td>\n",
       "      <td>1</td>\n",
       "      <td>3</td>\n",
       "      <td>Heikkinen, Miss. Laina</td>\n",
       "      <td>female</td>\n",
       "      <td>26.0</td>\n",
       "      <td>0</td>\n",
       "      <td>0</td>\n",
       "      <td>STON/O2. 3101282</td>\n",
       "      <td>7.9250</td>\n",
       "      <td>NaN</td>\n",
       "      <td>S</td>\n",
       "    </tr>\n",
       "    <tr>\n",
       "      <th>3</th>\n",
       "      <td>4</td>\n",
       "      <td>1</td>\n",
       "      <td>1</td>\n",
       "      <td>Futrelle, Mrs. Jacques Heath (Lily May Peel)</td>\n",
       "      <td>female</td>\n",
       "      <td>35.0</td>\n",
       "      <td>1</td>\n",
       "      <td>0</td>\n",
       "      <td>113803</td>\n",
       "      <td>53.1000</td>\n",
       "      <td>C123</td>\n",
       "      <td>S</td>\n",
       "    </tr>\n",
       "    <tr>\n",
       "      <th>4</th>\n",
       "      <td>5</td>\n",
       "      <td>0</td>\n",
       "      <td>3</td>\n",
       "      <td>Allen, Mr. William Henry</td>\n",
       "      <td>male</td>\n",
       "      <td>35.0</td>\n",
       "      <td>0</td>\n",
       "      <td>0</td>\n",
       "      <td>373450</td>\n",
       "      <td>8.0500</td>\n",
       "      <td>NaN</td>\n",
       "      <td>S</td>\n",
       "    </tr>\n",
       "  </tbody>\n",
       "</table>\n",
       "</div>"
      ],
      "text/plain": [
       "   PassengerId  Survived  Pclass  \\\n",
       "0            1         0       3   \n",
       "1            2         1       1   \n",
       "2            3         1       3   \n",
       "3            4         1       1   \n",
       "4            5         0       3   \n",
       "\n",
       "                                                Name     Sex   Age  SibSp  \\\n",
       "0                            Braund, Mr. Owen Harris    male  22.0      1   \n",
       "1  Cumings, Mrs. John Bradley (Florence Briggs Th...  female  38.0      1   \n",
       "2                             Heikkinen, Miss. Laina  female  26.0      0   \n",
       "3       Futrelle, Mrs. Jacques Heath (Lily May Peel)  female  35.0      1   \n",
       "4                           Allen, Mr. William Henry    male  35.0      0   \n",
       "\n",
       "   Parch            Ticket     Fare Cabin Embarked  \n",
       "0      0         A/5 21171   7.2500   NaN        S  \n",
       "1      0          PC 17599  71.2833   C85        C  \n",
       "2      0  STON/O2. 3101282   7.9250   NaN        S  \n",
       "3      0            113803  53.1000  C123        S  \n",
       "4      0            373450   8.0500   NaN        S  "
      ]
     },
     "execution_count": 4,
     "metadata": {},
     "output_type": "execute_result"
    }
   ],
   "source": [
    "# Display the first 5 rows of the training set\n",
    "train_df.head(5)"
   ]
  },
  {
   "cell_type": "markdown",
   "id": "e0e5912d01588958",
   "metadata": {},
   "source": [
    "**Analysis:** The dataset contains all the columns described in the metadata. No feature is missing.\n",
    "Notes:\n",
    "- Survived: is a boolean variable. I indicates whether the passenger survived (0 = No, 1 = Yes). **This will be our target variable**.\n",
    "- We note that there are some missing values. We will need to deal with that.\n",
    "- Some columns are not useful for our task (e.g., PassengerId, Name, Ticket, Cabin). We will drop them later."
   ]
  },
  {
   "cell_type": "code",
   "execution_count": 5,
   "id": "43c2f88bb37c6f09",
   "metadata": {
    "ExecuteTime": {
     "end_time": "2024-09-04T07:20:12.635683Z",
     "start_time": "2024-09-04T07:20:12.631073Z"
    },
    "collapsed": false
   },
   "outputs": [
    {
     "data": {
      "text/plain": [
       "(891, 12)"
      ]
     },
     "execution_count": 5,
     "metadata": {},
     "output_type": "execute_result"
    }
   ],
   "source": [
    "# Display the shape of the training set\n",
    "train_df.shape"
   ]
  },
  {
   "cell_type": "code",
   "execution_count": 6,
   "id": "256531d2329fabf",
   "metadata": {
    "ExecuteTime": {
     "end_time": "2024-09-04T07:20:13.208419Z",
     "start_time": "2024-09-04T07:20:13.198150Z"
    },
    "collapsed": false
   },
   "outputs": [
    {
     "name": "stdout",
     "output_type": "stream",
     "text": [
      "<class 'pandas.core.frame.DataFrame'>\n",
      "RangeIndex: 891 entries, 0 to 890\n",
      "Data columns (total 12 columns):\n",
      " #   Column       Non-Null Count  Dtype  \n",
      "---  ------       --------------  -----  \n",
      " 0   PassengerId  891 non-null    int64  \n",
      " 1   Survived     891 non-null    int64  \n",
      " 2   Pclass       891 non-null    int64  \n",
      " 3   Name         891 non-null    object \n",
      " 4   Sex          891 non-null    object \n",
      " 5   Age          714 non-null    float64\n",
      " 6   SibSp        891 non-null    int64  \n",
      " 7   Parch        891 non-null    int64  \n",
      " 8   Ticket       891 non-null    object \n",
      " 9   Fare         891 non-null    float64\n",
      " 10  Cabin        204 non-null    object \n",
      " 11  Embarked     889 non-null    object \n",
      "dtypes: float64(2), int64(5), object(5)\n",
      "memory usage: 83.7+ KB\n"
     ]
    }
   ],
   "source": [
    "# Display the information of the training set\n",
    "train_df.info()"
   ]
  },
  {
   "cell_type": "markdown",
   "id": "6ea7d248c2fb2aa1",
   "metadata": {},
   "source": [
    "**Analysis:** The training set contains 891 rows and 12 columns. The columns are of different types: int64, float64 and object. We will need to encode the categorical columns and scale the numerical columns."
   ]
  },
  {
   "cell_type": "code",
   "execution_count": 7,
   "id": "9cb751d54c410b9f",
   "metadata": {
    "ExecuteTime": {
     "end_time": "2024-09-04T07:20:14.556565Z",
     "start_time": "2024-09-04T07:20:14.540794Z"
    },
    "collapsed": false
   },
   "outputs": [
    {
     "data": {
      "text/html": [
       "<div>\n",
       "<style scoped>\n",
       "    .dataframe tbody tr th:only-of-type {\n",
       "        vertical-align: middle;\n",
       "    }\n",
       "\n",
       "    .dataframe tbody tr th {\n",
       "        vertical-align: top;\n",
       "    }\n",
       "\n",
       "    .dataframe thead th {\n",
       "        text-align: right;\n",
       "    }\n",
       "</style>\n",
       "<table border=\"1\" class=\"dataframe\">\n",
       "  <thead>\n",
       "    <tr style=\"text-align: right;\">\n",
       "      <th></th>\n",
       "      <th>PassengerId</th>\n",
       "      <th>Survived</th>\n",
       "      <th>Pclass</th>\n",
       "      <th>Age</th>\n",
       "      <th>SibSp</th>\n",
       "      <th>Parch</th>\n",
       "      <th>Fare</th>\n",
       "    </tr>\n",
       "  </thead>\n",
       "  <tbody>\n",
       "    <tr>\n",
       "      <th>count</th>\n",
       "      <td>891.000000</td>\n",
       "      <td>891.000000</td>\n",
       "      <td>891.000000</td>\n",
       "      <td>714.000000</td>\n",
       "      <td>891.000000</td>\n",
       "      <td>891.000000</td>\n",
       "      <td>891.000000</td>\n",
       "    </tr>\n",
       "    <tr>\n",
       "      <th>mean</th>\n",
       "      <td>446.000000</td>\n",
       "      <td>0.383838</td>\n",
       "      <td>2.308642</td>\n",
       "      <td>29.699118</td>\n",
       "      <td>0.523008</td>\n",
       "      <td>0.381594</td>\n",
       "      <td>32.204208</td>\n",
       "    </tr>\n",
       "    <tr>\n",
       "      <th>std</th>\n",
       "      <td>257.353842</td>\n",
       "      <td>0.486592</td>\n",
       "      <td>0.836071</td>\n",
       "      <td>14.526497</td>\n",
       "      <td>1.102743</td>\n",
       "      <td>0.806057</td>\n",
       "      <td>49.693429</td>\n",
       "    </tr>\n",
       "    <tr>\n",
       "      <th>min</th>\n",
       "      <td>1.000000</td>\n",
       "      <td>0.000000</td>\n",
       "      <td>1.000000</td>\n",
       "      <td>0.420000</td>\n",
       "      <td>0.000000</td>\n",
       "      <td>0.000000</td>\n",
       "      <td>0.000000</td>\n",
       "    </tr>\n",
       "    <tr>\n",
       "      <th>25%</th>\n",
       "      <td>223.500000</td>\n",
       "      <td>0.000000</td>\n",
       "      <td>2.000000</td>\n",
       "      <td>20.125000</td>\n",
       "      <td>0.000000</td>\n",
       "      <td>0.000000</td>\n",
       "      <td>7.910400</td>\n",
       "    </tr>\n",
       "    <tr>\n",
       "      <th>50%</th>\n",
       "      <td>446.000000</td>\n",
       "      <td>0.000000</td>\n",
       "      <td>3.000000</td>\n",
       "      <td>28.000000</td>\n",
       "      <td>0.000000</td>\n",
       "      <td>0.000000</td>\n",
       "      <td>14.454200</td>\n",
       "    </tr>\n",
       "    <tr>\n",
       "      <th>75%</th>\n",
       "      <td>668.500000</td>\n",
       "      <td>1.000000</td>\n",
       "      <td>3.000000</td>\n",
       "      <td>38.000000</td>\n",
       "      <td>1.000000</td>\n",
       "      <td>0.000000</td>\n",
       "      <td>31.000000</td>\n",
       "    </tr>\n",
       "    <tr>\n",
       "      <th>max</th>\n",
       "      <td>891.000000</td>\n",
       "      <td>1.000000</td>\n",
       "      <td>3.000000</td>\n",
       "      <td>80.000000</td>\n",
       "      <td>8.000000</td>\n",
       "      <td>6.000000</td>\n",
       "      <td>512.329200</td>\n",
       "    </tr>\n",
       "  </tbody>\n",
       "</table>\n",
       "</div>"
      ],
      "text/plain": [
       "       PassengerId    Survived      Pclass         Age       SibSp  \\\n",
       "count   891.000000  891.000000  891.000000  714.000000  891.000000   \n",
       "mean    446.000000    0.383838    2.308642   29.699118    0.523008   \n",
       "std     257.353842    0.486592    0.836071   14.526497    1.102743   \n",
       "min       1.000000    0.000000    1.000000    0.420000    0.000000   \n",
       "25%     223.500000    0.000000    2.000000   20.125000    0.000000   \n",
       "50%     446.000000    0.000000    3.000000   28.000000    0.000000   \n",
       "75%     668.500000    1.000000    3.000000   38.000000    1.000000   \n",
       "max     891.000000    1.000000    3.000000   80.000000    8.000000   \n",
       "\n",
       "            Parch        Fare  \n",
       "count  891.000000  891.000000  \n",
       "mean     0.381594   32.204208  \n",
       "std      0.806057   49.693429  \n",
       "min      0.000000    0.000000  \n",
       "25%      0.000000    7.910400  \n",
       "50%      0.000000   14.454200  \n",
       "75%      0.000000   31.000000  \n",
       "max      6.000000  512.329200  "
      ]
     },
     "execution_count": 7,
     "metadata": {},
     "output_type": "execute_result"
    }
   ],
   "source": [
    "# Display the statistics of the training set\n",
    "train_df.describe()"
   ]
  },
  {
   "cell_type": "markdown",
   "id": "a4405c43a47c482c",
   "metadata": {},
   "source": [
    "**Analysis:** The statistics of the training set show that the numerical columns have different scales. We will need to scale them. For instance, age ranges from 0.42 to 80, while fare ranges from 0 to 512.3292."
   ]
  },
  {
   "cell_type": "code",
   "execution_count": 8,
   "id": "c73f1809c247450d",
   "metadata": {
    "ExecuteTime": {
     "end_time": "2024-09-04T07:20:16.253693Z",
     "start_time": "2024-09-04T07:20:16.246991Z"
    }
   },
   "outputs": [
    {
     "data": {
      "text/plain": [
       "Survived\n",
       "0    549\n",
       "1    342\n",
       "Name: count, dtype: int64"
      ]
     },
     "execution_count": 8,
     "metadata": {},
     "output_type": "execute_result"
    }
   ],
   "source": [
    "# We check if the dataset is balanced\n",
    "train_df[\"Survived\"].value_counts()"
   ]
  },
  {
   "cell_type": "markdown",
   "id": "2c4272d59491f612",
   "metadata": {},
   "source": [
    "**Analysis:** The dataset is not perfectly balanced. We have 549 passengers that did not survive and 342 that survived. This is important to keep in mind when evaluating the performance of the model. We may need to use other metrics than accuracy to evaluate the model."
   ]
  },
  {
   "cell_type": "code",
   "execution_count": 9,
   "id": "9eb5f893bcd85a34",
   "metadata": {
    "ExecuteTime": {
     "end_time": "2024-09-04T07:20:18.620637Z",
     "start_time": "2024-09-04T07:20:18.614671Z"
    }
   },
   "outputs": [
    {
     "data": {
      "text/plain": [
       "PassengerId    False\n",
       "Survived       False\n",
       "Pclass         False\n",
       "Name           False\n",
       "Sex            False\n",
       "Age             True\n",
       "SibSp          False\n",
       "Parch          False\n",
       "Ticket         False\n",
       "Fare           False\n",
       "Cabin           True\n",
       "Embarked        True\n",
       "dtype: bool"
      ]
     },
     "execution_count": 9,
     "metadata": {},
     "output_type": "execute_result"
    }
   ],
   "source": [
    "# We check if there are any missing values in the training set\n",
    "train_df.isnull().any()"
   ]
  },
  {
   "cell_type": "code",
   "execution_count": 10,
   "id": "59c297f44c97c9c6",
   "metadata": {
    "ExecuteTime": {
     "end_time": "2024-09-04T07:20:19.673502Z",
     "start_time": "2024-09-04T07:20:19.665675Z"
    }
   },
   "outputs": [
    {
     "data": {
      "text/plain": [
       "PassengerId      0\n",
       "Survived         0\n",
       "Pclass           0\n",
       "Name             0\n",
       "Sex              0\n",
       "Age            177\n",
       "SibSp            0\n",
       "Parch            0\n",
       "Ticket           0\n",
       "Fare             0\n",
       "Cabin          687\n",
       "Embarked         2\n",
       "dtype: int64"
      ]
     },
     "execution_count": 10,
     "metadata": {},
     "output_type": "execute_result"
    }
   ],
   "source": [
    "# Count the missing values in the training set\n",
    "train_df.isnull().sum()"
   ]
  },
  {
   "cell_type": "code",
   "execution_count": 11,
   "id": "998db40c7a46ab6a",
   "metadata": {
    "ExecuteTime": {
     "end_time": "2024-09-04T07:24:06.327410Z",
     "start_time": "2024-09-04T07:24:06.318158Z"
    }
   },
   "outputs": [
    {
     "data": {
      "text/plain": [
       "PassengerId     0.000000\n",
       "Survived        0.000000\n",
       "Pclass          0.000000\n",
       "Name            0.000000\n",
       "Sex             0.000000\n",
       "Age            19.865320\n",
       "SibSp           0.000000\n",
       "Parch           0.000000\n",
       "Ticket          0.000000\n",
       "Fare            0.000000\n",
       "Cabin          77.104377\n",
       "Embarked        0.224467\n",
       "dtype: float64"
      ]
     },
     "execution_count": 11,
     "metadata": {},
     "output_type": "execute_result"
    }
   ],
   "source": [
    "# Show the percentage of missing values in the training set\n",
    "train_df.isnull().mean() * 100"
   ]
  },
  {
   "cell_type": "markdown",
   "id": "12de5cb9e0c6eb96",
   "metadata": {},
   "source": [
    "**Analysis:** We have missing values in the Age, Cabin and Embarked columns. We will need to deal with them. We may be able to fill the missing values in the Age and Embarked columns, but we will drop the Cabin column as it has too many missing values."
   ]
  },
  {
   "cell_type": "code",
   "execution_count": 12,
   "id": "b4d0e5647baa2f04",
   "metadata": {},
   "outputs": [],
   "source": [
    "# We display the correlation matrix\n",
    "# We want to show which features are correlated and their correlation with the target variable \"Survived\"\n",
    "# To do that we need to drop the columns that are not useful for our task and encode the categorical columns\n",
    "train_df_corr = train_df.drop([\"PassengerId\", \"Name\", \"Ticket\", \"Cabin\"], axis=1)\n",
    "train_df_corr = pd.get_dummies(train_df_corr, columns=[\"Sex\", \"Embarked\"])"
   ]
  },
  {
   "cell_type": "code",
   "execution_count": 13,
   "id": "77ed91f410869c05",
   "metadata": {},
   "outputs": [
    {
     "data": {
      "image/png": "[encoded data removed]",
      "text/plain": [
       "<Figure size 1200x1000 with 2 Axes>"
      ]
     },
     "metadata": {},
     "output_type": "display_data"
    }
   ],
   "source": [
    "import seaborn as sns\n",
    "import matplotlib.pyplot as plt\n",
    "\n",
    "plt.figure(figsize=(12, 10))\n",
    "sns.heatmap(train_df_corr.corr(), annot=True, cmap=\"coolwarm\", fmt=\".2f\")\n",
    "plt.show()"
   ]
  },
  {
   "cell_type": "markdown",
   "id": "cfc7023666b214cb",
   "metadata": {},
   "source": [
    "**Analysis:** The correlation matrix shows that the features are not highly correlated. The highest correlation is between `Fare` and `Pclass` (-0.55). We can imagine why (higher the class, higher the cost of the tiket). The target variable `Survived` is correlated with `Pclass` (-0.34), `Fare` (0.26) and `Sex` (0.54). We do not see a strong correlation with `age` (-0.08). This does not mean that `age` is not important. It just means that it is not linearly correlated with the target variable. We will need to use a model to understand its importance. "
   ]
  },
  {
   "cell_type": "markdown",
   "id": "7d2cddbcd85d2a72",
   "metadata": {},
   "source": [
    "#### 1.2.2 Explore the test set"
   ]
  },
  {
   "cell_type": "code",
   "execution_count": 14,
   "id": "9a3ca5dc0045e489",
   "metadata": {
    "collapsed": false
   },
   "outputs": [
    {
     "data": {
      "text/plain": [
       "(418, 11)"
      ]
     },
     "execution_count": 14,
     "metadata": {},
     "output_type": "execute_result"
    }
   ],
   "source": [
    "# Display the shape of the test set\n",
    "test_df.shape"
   ]
  },
  {
   "cell_type": "code",
   "execution_count": 15,
   "id": "59d7d114c4da8440",
   "metadata": {
    "collapsed": false
   },
   "outputs": [
    {
     "name": "stdout",
     "output_type": "stream",
     "text": [
      "<class 'pandas.core.frame.DataFrame'>\n",
      "RangeIndex: 418 entries, 0 to 417\n",
      "Data columns (total 11 columns):\n",
      " #   Column       Non-Null Count  Dtype  \n",
      "---  ------       --------------  -----  \n",
      " 0   PassengerId  418 non-null    int64  \n",
      " 1   Pclass       418 non-null    int64  \n",
      " 2   Name         418 non-null    object \n",
      " 3   Sex          418 non-null    object \n",
      " 4   Age          332 non-null    float64\n",
      " 5   SibSp        418 non-null    int64  \n",
      " 6   Parch        418 non-null    int64  \n",
      " 7   Ticket       418 non-null    object \n",
      " 8   Fare         417 non-null    float64\n",
      " 9   Cabin        91 non-null     object \n",
      " 10  Embarked     418 non-null    object \n",
      "dtypes: float64(2), int64(4), object(5)\n",
      "memory usage: 36.1+ KB\n"
     ]
    }
   ],
   "source": [
    "# Display the information of the test set\n",
    "test_df.info()"
   ]
  },
  {
   "cell_type": "code",
   "execution_count": 16,
   "id": "835e39e27060d63b",
   "metadata": {
    "collapsed": false
   },
   "outputs": [
    {
     "data": {
      "text/html": [
       "<div>\n",
       "<style scoped>\n",
       "    .dataframe tbody tr th:only-of-type {\n",
       "        vertical-align: middle;\n",
       "    }\n",
       "\n",
       "    .dataframe tbody tr th {\n",
       "        vertical-align: top;\n",
       "    }\n",
       "\n",
       "    .dataframe thead th {\n",
       "        text-align: right;\n",
       "    }\n",
       "</style>\n",
       "<table border=\"1\" class=\"dataframe\">\n",
       "  <thead>\n",
       "    <tr style=\"text-align: right;\">\n",
       "      <th></th>\n",
       "      <th>PassengerId</th>\n",
       "      <th>Pclass</th>\n",
       "      <th>Age</th>\n",
       "      <th>SibSp</th>\n",
       "      <th>Parch</th>\n",
       "      <th>Fare</th>\n",
       "    </tr>\n",
       "  </thead>\n",
       "  <tbody>\n",
       "    <tr>\n",
       "      <th>count</th>\n",
       "      <td>418.000000</td>\n",
       "      <td>418.000000</td>\n",
       "      <td>332.000000</td>\n",
       "      <td>418.000000</td>\n",
       "      <td>418.000000</td>\n",
       "      <td>417.000000</td>\n",
       "    </tr>\n",
       "    <tr>\n",
       "      <th>mean</th>\n",
       "      <td>1100.500000</td>\n",
       "      <td>2.265550</td>\n",
       "      <td>30.272590</td>\n",
       "      <td>0.447368</td>\n",
       "      <td>0.392344</td>\n",
       "      <td>35.627188</td>\n",
       "    </tr>\n",
       "    <tr>\n",
       "      <th>std</th>\n",
       "      <td>120.810458</td>\n",
       "      <td>0.841838</td>\n",
       "      <td>14.181209</td>\n",
       "      <td>0.896760</td>\n",
       "      <td>0.981429</td>\n",
       "      <td>55.907576</td>\n",
       "    </tr>\n",
       "    <tr>\n",
       "      <th>min</th>\n",
       "      <td>892.000000</td>\n",
       "      <td>1.000000</td>\n",
       "      <td>0.170000</td>\n",
       "      <td>0.000000</td>\n",
       "      <td>0.000000</td>\n",
       "      <td>0.000000</td>\n",
       "    </tr>\n",
       "    <tr>\n",
       "      <th>25%</th>\n",
       "      <td>996.250000</td>\n",
       "      <td>1.000000</td>\n",
       "      <td>21.000000</td>\n",
       "      <td>0.000000</td>\n",
       "      <td>0.000000</td>\n",
       "      <td>7.895800</td>\n",
       "    </tr>\n",
       "    <tr>\n",
       "      <th>50%</th>\n",
       "      <td>1100.500000</td>\n",
       "      <td>3.000000</td>\n",
       "      <td>27.000000</td>\n",
       "      <td>0.000000</td>\n",
       "      <td>0.000000</td>\n",
       "      <td>14.454200</td>\n",
       "    </tr>\n",
       "    <tr>\n",
       "      <th>75%</th>\n",
       "      <td>1204.750000</td>\n",
       "      <td>3.000000</td>\n",
       "      <td>39.000000</td>\n",
       "      <td>1.000000</td>\n",
       "      <td>0.000000</td>\n",
       "      <td>31.500000</td>\n",
       "    </tr>\n",
       "    <tr>\n",
       "      <th>max</th>\n",
       "      <td>1309.000000</td>\n",
       "      <td>3.000000</td>\n",
       "      <td>76.000000</td>\n",
       "      <td>8.000000</td>\n",
       "      <td>9.000000</td>\n",
       "      <td>512.329200</td>\n",
       "    </tr>\n",
       "  </tbody>\n",
       "</table>\n",
       "</div>"
      ],
      "text/plain": [
       "       PassengerId      Pclass         Age       SibSp       Parch        Fare\n",
       "count   418.000000  418.000000  332.000000  418.000000  418.000000  417.000000\n",
       "mean   1100.500000    2.265550   30.272590    0.447368    0.392344   35.627188\n",
       "std     120.810458    0.841838   14.181209    0.896760    0.981429   55.907576\n",
       "min     892.000000    1.000000    0.170000    0.000000    0.000000    0.000000\n",
       "25%     996.250000    1.000000   21.000000    0.000000    0.000000    7.895800\n",
       "50%    1100.500000    3.000000   27.000000    0.000000    0.000000   14.454200\n",
       "75%    1204.750000    3.000000   39.000000    1.000000    0.000000   31.500000\n",
       "max    1309.000000    3.000000   76.000000    8.000000    9.000000  512.329200"
      ]
     },
     "execution_count": 16,
     "metadata": {},
     "output_type": "execute_result"
    }
   ],
   "source": [
    "# Display the statistics of the test set\n",
    "test_df.describe()"
   ]
  },
  {
   "cell_type": "markdown",
   "id": "34fd0ff14a080bb4",
   "metadata": {
    "collapsed": false
   },
   "source": [
    "**Analysis:** \n",
    "Note 1: We can see that in the training set there are missing values in the Age, Cabin and Embarked columns. We may be able to deal with age and embarked, but we will drop the cabin column as it has too many missing values.\n",
    "Remember: if we drop a column in the training set, we should also drop it in the test set.\n",
    "\n",
    "Note 2: We can also see that in the test set there are missing values in the Age, Fare and Cabin columns. We will deal with age and fare, but we will drop the cabin column as it has too many missing values. We CANNOT compute these values from the test set, as we will not have access to it when we will be using our model to make predictions. Therefore, we will use the mean (or other information) of the training set to fill the missing values in the test set.\n",
    "\n",
    "Note 3: We can also see that the PassengerId, Name and Ticket columns are not useful for our task. We will drop them as well.\n",
    "\n"
   ]
  },
  {
   "cell_type": "markdown",
   "id": "7ae8055545080555",
   "metadata": {},
   "source": [
    "### Answers to the questions (Data Exploration)\n",
    "- **Why is it important to know the type (numerical vs. categorical) of a feature?**\n",
    "\n",
    "Knowing the type of a feature is important because it determines the type of preprocessing that needs to be done. For example, numerical features need to be scaled, while categorical features need to be encoded. In addition, we cannot do mathematical operations (e.g., correlation) on categorical features, so we need to encode them to be able to use them in a machine learning model. Finally, the type of a feature also determines the type of model that can be used. For example, decision trees can handle both numerical and categorical features, while linear regression can only handle numerical features.\n",
    "\n",
    "- **Why is it important to understand correlations? Is it good to have features highly correlated with each other? Is it good to have features highly correlated with the target?**\n",
    "\n",
    "Understanding correlations is important because it helps us understand the relationships between features and the target variable. Highly correlated features can lead to multicollinearity, which can make the model unstable and difficult to interpret. On the other hand, highly correlated features with the target variable can be useful for prediction. For example, if a feature is highly correlated with the target, it can help the model make accurate predictions. However, it is important to note that correlation does not imply causation, so it is important to interpret the results carefully.\n",
    " \n",
    "- **List possible problems related to an unbalanced dataset.**\n",
    "\n",
    "An unbalanced dataset can lead to biased models that are not able to generalize well to new data. Some possible problems related to an unbalanced dataset include:\n",
    "  - Biased models: Models trained on unbalanced datasets can be biased towards the majority class, leading to poor performance on the minority class.\n",
    "  - Poor generalization: Models trained on unbalanced datasets may not generalize well to new data, especially if the distribution of the classes in the test set is different from the training set.\n",
    "  - Misleading performance metrics: Performance metrics such as accuracy can be misleading on unbalanced datasets, as they do not take into account the class imbalance. For example, a model that predicts the majority class for all instances can have high accuracy but perform poorly on the minority class.\n",
    "  - Overfitting: Models trained on unbalanced datasets may overfit to the majority class, leading to poor performance on the minority\n",
    "\n",
    "- **List possible solutions for dealing with an unbalanced dataset.**\n",
    "\n",
    "There are several techniques that can be used to deal with an unbalanced dataset:\n",
    "  - Resampling: Resampling techniques such as oversampling the minority class or undersampling the majority class can help balance the dataset.\n",
    "  - Synthetic data generation: Synthetic data generation techniques such as SMOTE (Synthetic Minority Over-sampling Technique) can be used to generate synthetic samples of the minority class.\n",
    "  - Cost-sensitive learning: Cost-sensitive learning techniques assign different costs to different classes to account for the class imbalance.\n",
    "  \n",
    "\n",
    "- Multiple approaches to deal with missing values exist. The scikit-learn library proposes *mean*, *median*, *most frequent*, and *k-NN* imputation methods.\n",
    "  - When is one approach more suitable than another?\n",
    "  - Should you impute missing values in the target (y)?\n",
    "  - Is imputation always a good idea?\n",
    "\n",
    "The choice of imputation method depends on the nature of the missing data and the distribution of the feature. For example, mean imputation is suitable for features with a normal distribution, while median imputation is suitable for features with a skewed distribution. Most frequent imputation is suitable for categorical features, while k-NN imputation is suitable for features with complex relationships with other features.\n",
    "Imputing missing values in the target variable (y) is not recommended, as it can introduce bias into the model. It is better to drop rows with missing values in the target variable.\n",
    "Imputation is not always a good idea, as it can introduce bias and reduce the variability of the data. It is important to carefully consider the nature of the missing data and the impact of imputation on the model performance before imputing missing values. In our case, imputing the variables `Age` and `Embarked` maybe a good idea (we can at least try), as the missing values are not too many and we can use the mean and the most frequent value, respectively. However, imputing the variable `Cabin` is definitely not a good idea, as there are too many missing values and imputation may introduce bias into the model."
   ]
  },
  {
   "cell_type": "markdown",
   "id": "2a7df9bc13b9c5b3",
   "metadata": {
    "collapsed": false
   },
   "source": [
    "## 2 Data Preparation"
   ]
  },
  {
   "cell_type": "markdown",
   "id": "aa1d43ba982292e6",
   "metadata": {
    "collapsed": false
   },
   "source": [
    "### 2.1 Split the data into training and test set"
   ]
  },
  {
   "cell_type": "code",
   "execution_count": 42,
   "id": "b2a9452247b4bcfd",
   "metadata": {
    "collapsed": false
   },
   "outputs": [],
   "source": [
    "# the dataset is already split... So, skip this step"
   ]
  },
  {
   "cell_type": "markdown",
   "id": "4342f0e36f4c4977",
   "metadata": {
    "collapsed": false
   },
   "source": [
    "### 2.2 Fill missing values (if any)"
   ]
  },
  {
   "cell_type": "code",
   "execution_count": null,
   "id": "edeaa1ae3cbde2b4",
   "metadata": {
    "collapsed": false
   },
   "outputs": [],
   "source": [
    "# Check for any missing values in the training set\n",
    "train_df.isnull().any()"
   ]
  },
  {
   "cell_type": "code",
   "execution_count": null,
   "id": "b05b9dcbf943285a",
   "metadata": {
    "collapsed": false
   },
   "outputs": [],
   "source": [
    "# Count the missing values in the training set\n",
    "train_df.isnull().sum()"
   ]
  },
  {
   "cell_type": "code",
   "execution_count": null,
   "id": "972f5de41afc56e9",
   "metadata": {
    "collapsed": false
   },
   "outputs": [],
   "source": [
    "# Check for any missing values in the test set\n",
    "test_df.isnull().any()"
   ]
  },
  {
   "cell_type": "code",
   "execution_count": null,
   "id": "5496bda1ae15c229",
   "metadata": {
    "collapsed": false
   },
   "outputs": [],
   "source": [
    "# Count the missing values in the test set\n",
    "test_df.isnull().sum()"
   ]
  },
  {
   "cell_type": "code",
   "execution_count": 47,
   "id": "cd43e924e269b00a",
   "metadata": {
    "collapsed": false
   },
   "outputs": [],
   "source": [
    "# Drop useless columns\n",
    "train_df = train_df.drop([\"PassengerId\", \"Name\", \"Ticket\", \"Cabin\"], axis=1)\n",
    "test_df = test_df.drop([\"PassengerId\", \"Name\", \"Ticket\", \"Cabin\"], axis=1)"
   ]
  },
  {
   "cell_type": "markdown",
   "id": "fb0390dd",
   "metadata": {},
   "source": [
    "We drop 'PassengerId', 'Name', 'Ticket' because they do not contain valuable information.\n",
    "We drop 'Cabin' because of too many missing values\n",
    "\n",
    "Remember to:\n",
    "- get your insights from the training set only (consider as you do not have a test set)\n",
    "- drop the same columns also in the test set, when available"
   ]
  },
  {
   "cell_type": "markdown",
   "id": "ab08054c",
   "metadata": {},
   "source": [
    "### Warning:\n",
    "Pandas behaviour is not the same when you use these two instructions:"
   ]
  },
  {
   "cell_type": "code",
   "execution_count": null,
   "id": "1ef5fc05",
   "metadata": {},
   "outputs": [],
   "source": [
    "test = train_df[\"Embarked\"]\n",
    "type(test)  # print the type of the object (in this case, a pandas series)"
   ]
  },
  {
   "cell_type": "markdown",
   "id": "60bdb83a",
   "metadata": {},
   "source": [
    "Or: "
   ]
  },
  {
   "cell_type": "code",
   "execution_count": null,
   "id": "93eff6e1",
   "metadata": {},
   "outputs": [],
   "source": [
    "test = train_df[[\"Embarked\"]]\n",
    "type(test)  # print the type of the object (in this case, it is a DataFrame)"
   ]
  },
  {
   "cell_type": "markdown",
   "id": "6d7f35fe",
   "metadata": {},
   "source": [
    "In the first case, it returns a Series, in the second case a Dataframe. [They are not the same thing](https://www.geeksforgeeks.org/dataframe-vs-series-in-pandas/). Most of the time, you need a dataframe"
   ]
  },
  {
   "cell_type": "code",
   "execution_count": 50,
   "id": "813d719ec9672864",
   "metadata": {
    "collapsed": false
   },
   "outputs": [],
   "source": [
    "# Impute missing values in the Age column with KNN imputer (also for the test set, remember to use the mean of the training set)\n",
    "from sklearn.impute import KNNImputer, SimpleImputer\n",
    "\n",
    "imputerAgeFare_knn = KNNImputer(n_neighbors=5)\n",
    "train_df[[\"Pclass\", \"SibSp\", \"Parch\", \"Age\", \"Fare\"]] = (\n",
    "    imputerAgeFare_knn.fit_transform(\n",
    "        train_df[[\"Pclass\", \"SibSp\", \"Parch\", \"Age\", \"Fare\"]]\n",
    "    )\n",
    ")\n",
    "test_df[[\"Pclass\", \"SibSp\", \"Parch\", \"Age\", \"Fare\"]] = imputerAgeFare_knn.transform(\n",
    "    test_df[[\"Pclass\", \"SibSp\", \"Parch\", \"Age\", \"Fare\"]]\n",
    ")\n",
    "\n",
    "# Impute missing values in the Embarked column with the most frequent value (also for the test set, remember to use the most frequent value of the training set)\n",
    "imputerEmbarked_mode = SimpleImputer(strategy=\"most_frequent\")\n",
    "train_df[[\"Embarked\"]] = imputerEmbarked_mode.fit_transform(train_df[[\"Embarked\"]])\n",
    "test_df[[\"Embarked\"]] = imputerEmbarked_mode.transform(test_df[[\"Embarked\"]])"
   ]
  },
  {
   "cell_type": "code",
   "execution_count": null,
   "id": "ff8a735fc9ec3eb1",
   "metadata": {
    "collapsed": false
   },
   "outputs": [],
   "source": [
    "# Check for any more missing values in the training set\n",
    "train_df.isnull().any()"
   ]
  },
  {
   "cell_type": "code",
   "execution_count": null,
   "id": "5899c19890deec40",
   "metadata": {
    "collapsed": false
   },
   "outputs": [],
   "source": [
    "# Check for any more missing values in the test set\n",
    "test_df.isnull().any()"
   ]
  },
  {
   "cell_type": "markdown",
   "id": "15a8015f5b74d8f1",
   "metadata": {
    "collapsed": false
   },
   "source": [
    "We should be good to go! No more missing values. We also have all the labels in the training set (Survived column), so, no need to drop any row."
   ]
  },
  {
   "cell_type": "markdown",
   "id": "4b20f758",
   "metadata": {},
   "source": [
    "**Question**: \n",
    "What is the difference between the scikit learn methods:\n",
    "- .fit()\n",
    "- .transform()\n",
    "- .fit_transform() "
   ]
  },
  {
   "cell_type": "markdown",
   "id": "84353039",
   "metadata": {},
   "source": [
    "**Solution**:\n",
    "\n",
    "- .fit():\n",
    "    - The .fit() method is used to compute the necessary parameters from the training data. This is where the model \"learns\" from the data.\n",
    "\n",
    "- .transform():\n",
    "    - The .transform() method applies the parameters learned from the .fit() method to transform the data into a form that is more suitable for the model12.\n",
    "\n",
    "- .fit_transform():\n",
    "    - The .fit_transform() method combines the functionalities of both .fit() and .transform() in one step. It first fits the model to the data and then transforms the data using the fitted model. Using .fit_transform() can be more efficient than calling .fit() and .transform() separately, especially when dealing with large datasets\n"
   ]
  },
  {
   "cell_type": "markdown",
   "id": "4ee746414968df9f",
   "metadata": {
    "collapsed": false
   },
   "source": [
    "### 2.3 Separate the features X, from the label y"
   ]
  },
  {
   "cell_type": "code",
   "execution_count": 53,
   "id": "379b80f03ad85581",
   "metadata": {
    "collapsed": false
   },
   "outputs": [],
   "source": [
    "# Separate the features X, from the label y\n",
    "X_train = train_df.drop(\"Survived\", axis=1)\n",
    "y_train = train_df[\"Survived\"]\n",
    "X_test = test_df.copy()"
   ]
  },
  {
   "cell_type": "markdown",
   "id": "8ca50efe",
   "metadata": {},
   "source": [
    "We drop \"Survived\" because it is the label. We do not want this information in a training set for random forest. We may need it for methods such as K-NN but the sci-kit learn library takes care of this for us. "
   ]
  },
  {
   "cell_type": "markdown",
   "id": "32a02536115878e3",
   "metadata": {
    "collapsed": false
   },
   "source": [
    "### 2.4 Scale and encode the features"
   ]
  },
  {
   "cell_type": "markdown",
   "id": "98f3c7bd2393df23",
   "metadata": {
    "collapsed": false
   },
   "source": [
    "#### 2.4.1 Scale the numerical features"
   ]
  },
  {
   "cell_type": "code",
   "execution_count": 54,
   "id": "c32dec0139cd8978",
   "metadata": {
    "collapsed": false
   },
   "outputs": [],
   "source": [
    "# Scale the numerical features (Age, Fare)\n",
    "# use .info() to get an idea of the numerical column names\n",
    "from sklearn.preprocessing import RobustScaler\n",
    "\n",
    "num_features = [\"Pclass\", \"Age\", \"SibSp\", \"Parch\", \"Fare\"]\n",
    "\n",
    "scaler = RobustScaler()\n",
    "X_train[num_features] = scaler.fit_transform(X_train[num_features])\n",
    "X_test[num_features] = scaler.transform(X_test[num_features])"
   ]
  },
  {
   "cell_type": "markdown",
   "id": "abc2b152b090812f",
   "metadata": {
    "collapsed": false
   },
   "source": [
    "NOTE: it is arguable whether we should scale the `Pclass`, `SibSp` and `Parch` columns. We will do it here, but you can try to remove them from the list of columns to scale and see whther improves (or not) the performance of the model."
   ]
  },
  {
   "cell_type": "markdown",
   "id": "a4a7215d7ec2710a",
   "metadata": {
    "collapsed": false
   },
   "source": [
    "#### 2.4.2 Encode the categorical features"
   ]
  },
  {
   "cell_type": "code",
   "execution_count": 55,
   "id": "17251e5a3d8ee954",
   "metadata": {
    "collapsed": false
   },
   "outputs": [],
   "source": [
    "# Encode the categorical feature (one hot encoder)\n",
    "# (you may want to use .info() to get an idea of the categorical column names)\n",
    "from sklearn.preprocessing import OneHotEncoder\n",
    "\n",
    "cat_features = [\"Sex\", \"Embarked\"]\n",
    "\n",
    "encoder = OneHotEncoder(sparse_output=False)\n",
    "encoder.fit(X_train[cat_features])\n",
    "\n",
    "X_train_cat = encoder.transform(X_train[cat_features])\n",
    "X_test_cat = encoder.transform(X_test[cat_features])\n",
    "\n",
    "# put this back into a dataframe\n",
    "X_train_cat = pd.DataFrame(X_train_cat, columns=encoder.get_feature_names_out())\n",
    "X_test_cat = pd.DataFrame(X_test_cat, columns=encoder.get_feature_names_out())\n",
    "\n",
    "# drop the original categorical columns\n",
    "X_train = X_train.drop(cat_features, axis=1)\n",
    "X_test = X_test.drop(cat_features, axis=1)\n",
    "\n",
    "# concatenate the encoded categorical columns to the dataframe\n",
    "X_train = pd.concat([X_train, X_train_cat], axis=1)\n",
    "X_test = pd.concat([X_test, X_test_cat], axis=1)"
   ]
  },
  {
   "cell_type": "code",
   "execution_count": null,
   "id": "49e45175f84b8b78",
   "metadata": {
    "collapsed": false
   },
   "outputs": [],
   "source": [
    "X_train.head()"
   ]
  },
  {
   "cell_type": "markdown",
   "id": "7c3535fc43148e85",
   "metadata": {
    "collapsed": false
   },
   "source": [
    "### 2.5 Encode the labels"
   ]
  },
  {
   "cell_type": "code",
   "execution_count": 57,
   "id": "17bea232ccd55461",
   "metadata": {
    "collapsed": false
   },
   "outputs": [],
   "source": [
    "# Encode the labels (label encoder)\n",
    "# we do not need to do this, as the labels are already binary (survived: 0 = No, 1 = Yes)"
   ]
  },
  {
   "cell_type": "markdown",
   "id": "8888934ef0623968",
   "metadata": {
    "collapsed": false
   },
   "source": [
    "## 3 Training and evaluation\n",
    "\n",
    "We structure the code below in a way that we can easily try different classifiers and compare their performance."
   ]
  },
  {
   "cell_type": "code",
   "execution_count": 58,
   "id": "30fa15ae9ed256da",
   "metadata": {
    "collapsed": false
   },
   "outputs": [],
   "source": [
    "# Import libraries (we will use GridSearchCV to find the best hyperparameters for each classifier)\n",
    "from sklearn.model_selection import GridSearchCV\n",
    "from sklearn.metrics import accuracy_score, confusion_matrix, classification_report"
   ]
  },
  {
   "cell_type": "code",
   "execution_count": 59,
   "id": "e1c24bbadf9e7613",
   "metadata": {
    "collapsed": false
   },
   "outputs": [],
   "source": [
    "# Define a function to find the best hyperparameters for a classifier\n",
    "# Return the model with the best hyperparameters\n",
    "def find_best_hyperparameters(clf, param_grid, X_train, y_train, scoring=\"accuracy\"):\n",
    "    # create the grid search object\n",
    "    grid_search = GridSearchCV(\n",
    "        clf,\n",
    "        param_grid,\n",
    "        cv=5,\n",
    "        scoring=scoring,\n",
    "        return_train_score=True,\n",
    "        n_jobs=-1,\n",
    "        verbose=3,\n",
    "    )  # use all the cores of the CPU, verbose=3 to see the progress\n",
    "    # find the best hyperparameters\n",
    "    grid_search.fit(X_train, y_train)\n",
    "    # print the best hyperparameters\n",
    "    print(\"Best hyperparameters: {}\".format(grid_search.best_params_))\n",
    "    # print the best accuracy score\n",
    "    print(\"Best accuracy score: {:.2f}\".format(grid_search.best_score_))\n",
    "    # return the model with the best hyperparameters\n",
    "    return grid_search.best_estimator_"
   ]
  },
  {
   "cell_type": "code",
   "execution_count": 60,
   "id": "7acf3705d18f79d2",
   "metadata": {
    "collapsed": false
   },
   "outputs": [],
   "source": [
    "# train and evaluate the classifier with the best hyperparameters using cross-validation (we do not have the test set labels)\n",
    "# we want accuracy, precision, recall and f1-score\n",
    "from sklearn.model_selection import cross_validate\n",
    "\n",
    "\n",
    "def print_cross_validation_results(clf, X_train, y_train):\n",
    "    scoring = [\"accuracy\", \"precision\", \"recall\", \"f1\"]\n",
    "    scores = cross_validate(\n",
    "        clf,\n",
    "        X_train,\n",
    "        y_train,\n",
    "        scoring=scoring,\n",
    "        cv=5,\n",
    "        return_train_score=True,\n",
    "        n_jobs=-1,\n",
    "        verbose=3,\n",
    "    )  # use all the cores of the CPU, verbose=3 to see the progress\n",
    "    print(\n",
    "        \"Accuracy score on training set: {:.2f}\".format(scores[\"train_accuracy\"].mean())\n",
    "    )\n",
    "    print(\n",
    "        \"Precision score on training set: {:.2f}\".format(\n",
    "            scores[\"train_precision\"].mean()\n",
    "        )\n",
    "    )\n",
    "    print(\"Recall score on training set: {:.2f}\".format(scores[\"train_recall\"].mean()))\n",
    "    print(\"F1 score on training set: {:.2f}\".format(scores[\"train_f1\"].mean()))\n",
    "    print(\n",
    "        \"Accuracy score on validation set: {:.2f}\".format(\n",
    "            scores[\"test_accuracy\"].mean()\n",
    "        )\n",
    "    )\n",
    "    print(\n",
    "        \"Precision score on validation set: {:.2f}\".format(\n",
    "            scores[\"test_precision\"].mean()\n",
    "        )\n",
    "    )\n",
    "    print(\"Recall score on validation set: {:.2f}\".format(scores[\"test_recall\"].mean()))\n",
    "    print(\"F1 score on validation set: {:.2f}\".format(scores[\"test_f1\"].mean()))"
   ]
  },
  {
   "cell_type": "markdown",
   "id": "87b1682d",
   "metadata": {},
   "source": [
    "**NOTE**: it is very important to print scores related to the training set **and** to the validation set. This allows verifying possible overfitting/underfitting conditions."
   ]
  },
  {
   "cell_type": "markdown",
   "id": "2ce41ca410dcbcbf",
   "metadata": {
    "collapsed": false
   },
   "source": [
    "### 3.1 k-nn classifier"
   ]
  },
  {
   "cell_type": "code",
   "execution_count": null,
   "id": "8c7922cb30ba44e3",
   "metadata": {
    "collapsed": false
   },
   "outputs": [],
   "source": [
    "# Import the k-nn classifier\n",
    "from sklearn.neighbors import KNeighborsClassifier\n",
    "\n",
    "# Define the parameter grid to explore\n",
    "param_grid = {\"n_neighbors\": [1, 3, 5, 7, 9, 11, 13, 15]}\n",
    "\n",
    "# Create the classifier\n",
    "knn_clf = KNeighborsClassifier()\n",
    "\n",
    "# Find the best hyperparameters\n",
    "knn_clf = find_best_hyperparameters(knn_clf, param_grid, X_train, y_train)\n",
    "\n",
    "# Print the cross validation results\n",
    "print_cross_validation_results(knn_clf, X_train, y_train)"
   ]
  },
  {
   "cell_type": "markdown",
   "id": "4ce83daa3117660b",
   "metadata": {
    "collapsed": false
   },
   "source": [
    "### 3.2 Decision tree classifier"
   ]
  },
  {
   "cell_type": "code",
   "execution_count": null,
   "id": "de217f7d2555b85e",
   "metadata": {
    "collapsed": false
   },
   "outputs": [],
   "source": [
    "# Import the decision tree classifier\n",
    "from sklearn.tree import DecisionTreeClassifier\n",
    "\n",
    "# Define the parameter grid to explore\n",
    "param_grid = {\n",
    "    \"max_depth\": [None, 1, 2, 3, 4, 5, 6, 7, 8, 9],\n",
    "    \"criterion\": [\"gini\", \"entropy\"],\n",
    "    \"min_samples_split\": [2, 3, 4, 5, 6, 7, 8, 9, 10],\n",
    "    \"min_samples_leaf\": [1, 2, 3, 4, 5, 6, 7, 8, 9, 10],\n",
    "}\n",
    "\n",
    "# Create the classifier\n",
    "dt_clf = DecisionTreeClassifier()\n",
    "\n",
    "# Find the best hyperparameters\n",
    "dt_clf = find_best_hyperparameters(dt_clf, param_grid, X_train, y_train)\n",
    "\n",
    "# Print the cross validation results\n",
    "print_cross_validation_results(dt_clf, X_train, y_train)"
   ]
  },
  {
   "cell_type": "markdown",
   "id": "bde2fa44e85b0d7a",
   "metadata": {
    "collapsed": false
   },
   "source": [
    "### 3.3 Random Forest classifier"
   ]
  },
  {
   "cell_type": "code",
   "execution_count": null,
   "id": "ee391694282bf2a8",
   "metadata": {
    "collapsed": false
   },
   "outputs": [],
   "source": [
    "# Import the random forest classifier\n",
    "from sklearn.ensemble import RandomForestClassifier\n",
    "\n",
    "# Define the parameter grid to explore (warning: this may take a long time to run)\n",
    "param_grid = {\n",
    "    \"n_estimators\": [10, 100, 500],\n",
    "    \"max_depth\": [None, 1, 3, 9],\n",
    "    \"criterion\": [\"gini\", \"entropy\"],\n",
    "    \"min_samples_split\": [2, 5, 10],\n",
    "    \"min_samples_leaf\": [1, 2, 3, 4, 5],\n",
    "}\n",
    "# param_grid = {'n_estimators': [10, 50, 100, 200, 300, 400, 500], 'max_depth': [None, 1, 2, 3, 4, 5, 6, 7, 8, 9], 'criterion': ['gini', 'entropy'], 'min_samples_split': [2, 3, 4, 5, 6, 7, 8, 9, 10], 'min_samples_leaf': [1, 2, 3, 4, 5, 6, 7, 8, 9, 10]}\n",
    "\n",
    "# Create the classifier\n",
    "rf_clf = RandomForestClassifier()\n",
    "\n",
    "# Find the best hyperparameters\n",
    "rf_clf = find_best_hyperparameters(rf_clf, param_grid, X_train, y_train)\n",
    "\n",
    "# Print the cross validation results\n",
    "print_cross_validation_results(rf_clf, X_train, y_train)\n",
    "\n",
    "# Rank and print the feature importances with its corresponding feature name\n",
    "importances = rf_clf.feature_importances_\n",
    "feature_names = X_train.columns\n",
    "indices = np.argsort(importances)[::-1]\n",
    "for f in range(X_train.shape[1]):\n",
    "    print(\"%d. %s (%f)\" % (f + 1, feature_names[indices[f]], importances[indices[f]]))"
   ]
  }
 ],
 "metadata": {
  "kernelspec": {
   "display_name": "Python 3",
   "language": "python",
   "name": "python3"
  },
  "language_info": {
   "codemirror_mode": {
    "name": "ipython",
    "version": 3
   },
   "file_extension": ".py",
   "mimetype": "text/x-python",
   "name": "python",
   "nbconvert_exporter": "python",
   "pygments_lexer": "ipython3",
   "version": "3.11.9"
  }
 },
 "nbformat": 4,
 "nbformat_minor": 5
}
